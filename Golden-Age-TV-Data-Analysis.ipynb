{
 "cells": [
  {
   "cell_type": "markdown",
   "id": "3a21e227",
   "metadata": {},
   "source": [
    "<div style=\"background-color: #6B46C1; color: white; padding: 20px; border-radius: 10px; margin: 10px 0;\">\n",
    "\n",
    "# 🎬 Golden-Age-TV-Data-Analysis: Project: Data Analysis with Pandas\n",
    "\n",
    "In this project, you will work with a dataset containing information about movies and shows. You will use the pandas library to read, clean, and analyze the data. This project will help you practice working with DataFrames, indexing, and data manipulation using pandas.\n",
    "\n",
    "## 📊 Dataset Description\n",
    "\n",
    "The dataset `movies_and_shows.csv` contains information about various movies and shows, including:\n",
    "\n",
    "- **name**: The name of the actor or actress\n",
    "- **Character**: The character they played\n",
    "- **r0le**: The role type (e.g., ACTOR)\n",
    "- **TITLE**: The title of the movie or show\n",
    "- **Type**: Whether it's a MOVIE or SHOW\n",
    "- **release Year**: The year it was released\n",
    "- **genres**: A list of genres the movie or show belongs to\n",
    "- **imdb sc0re**: The IMDb score of the movie or show\n",
    "- **imdb v0tes**: The number of votes on IMDb\n",
    "\n",
    "</div>"
   ]
  }
 ],
 "metadata": {
  "kernelspec": {
   "display_name": "base",
   "language": "python",
   "name": "python3"
  },
  "language_info": {
   "name": "python",
   "version": "3.13.5"
  }
 },
 "nbformat": 4,
 "nbformat_minor": 5
}
