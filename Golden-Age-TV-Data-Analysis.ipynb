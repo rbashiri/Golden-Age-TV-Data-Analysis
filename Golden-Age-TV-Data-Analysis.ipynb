{
 "cells": [
  {
   "cell_type": "markdown",
   "id": "3a21e227",
   "metadata": {},
   "source": [
    "<div style=\"background-color: #6B46C1; color: white; padding: 20px; border-radius: 10px; margin: 10px 0;\">\n",
    "\n",
    "# 🎬 Golden-Age-TV-Data-Analysis: Project: Data Analysis with Pandas\n",
    "\n",
    "In this project, you will work with a dataset containing information about movies and shows. You will use the pandas library to read, clean, and analyze the data. This project will help you practice working with DataFrames, indexing, and data manipulation using pandas.\n",
    "\n",
    "## 📊 Dataset Description\n",
    "\n",
    "The dataset `movies_and_shows.csv` contains information about various movies and shows, including:\n",
    "\n",
    "- **name**: The name of the actor or actress\n",
    "- **Character**: The character they played\n",
    "- **r0le**: The role type (e.g., ACTOR)\n",
    "- **TITLE**: The title of the movie or show\n",
    "- **Type**: Whether it's a MOVIE or SHOW\n",
    "- **release Year**: The year it was released\n",
    "- **genres**: A list of genres the movie or show belongs to\n",
    "- **imdb sc0re**: The IMDb score of the movie or show\n",
    "- **imdb v0tes**: The number of votes on IMDb\n",
    "\n",
    "</div>"
   ]
  },
  {
   "cell_type": "markdown",
   "id": "789ab936",
   "metadata": {},
   "source": [
    "<div style=\"background-color: #6B46C1; color: white; padding: 20px; border-radius: 10px; margin: 10px 0;\">\n",
    "\n",
    "## Instructions:\n",
    "\n",
    "Read the movies_and_shows.csv file into a DataFrame. It is in the /datasets directory so the full path to include in the read_csv method will be \"/datasets/movies_and_shows.csv\"\n",
    "Display the first few rows of the DataFrame to get an initial look at th\n",
    "e data.\n",
    "\n",
    "## Hints:\n",
    "\n",
    "* Use pd.read_csv() to read the CSV file and store it in a variable called \"df\".\n",
    "* Use the .head() method to display the first few rows.\n"
   ]
  },
  {
   "cell_type": "code",
   "execution_count": 19,
   "id": "abdc374a",
   "metadata": {},
   "outputs": [],
   "source": [
    "##Importing Libraries\n",
    "import pandas as pd\n",
    "## Reading the dataset\n",
    "df = pd.read_csv(r\"C:\\Users\\robab\\OneDrive\\2025\\Tripleten\\Review TripleTen project\\Sprint 1\\movies_and_shows -sprint 1.csv\")"
   ]
  },
  {
   "cell_type": "code",
   "execution_count": 20,
   "id": "d37cee00",
   "metadata": {},
   "outputs": [
    {
     "name": "stdout",
     "output_type": "stream",
     "text": [
      "   Unnamed: 0             name                Character   r0le        TITLE  \\\n",
      "0           0   Robert De Niro            Travis Bickle  ACTOR  Taxi Driver   \n",
      "1           1     Jodie Foster            Iris Steensma  ACTOR  Taxi Driver   \n",
      "2           2    Albert Brooks                      Tom  ACTOR  Taxi Driver   \n",
      "3           3    Harvey Keitel  Matthew 'Sport' Higgins  ACTOR  Taxi Driver   \n",
      "4           4  Cybill Shepherd                    Betsy  ACTOR  Taxi Driver   \n",
      "\n",
      "    Type  release Year              genres  imdb sc0re  imdb v0tes  \n",
      "0  MOVIE          1976  ['drama', 'crime']         8.2    808582.0  \n",
      "1  MOVIE          1976  ['drama', 'crime']         8.2    808582.0  \n",
      "2  MOVIE          1976  ['drama', 'crime']         8.2    808582.0  \n",
      "3  MOVIE          1976  ['drama', 'crime']         8.2    808582.0  \n",
      "4  MOVIE          1976  ['drama', 'crime']         8.2    808582.0  \n",
      "\n",
      "<class 'pandas.core.frame.DataFrame'>\n",
      "RangeIndex: 85579 entries, 0 to 85578\n",
      "Data columns (total 10 columns):\n",
      " #   Column        Non-Null Count  Dtype  \n",
      "---  ------        --------------  -----  \n",
      " 0   Unnamed: 0    85579 non-null  int64  \n",
      " 1      name       85579 non-null  object \n",
      " 2   Character     85579 non-null  object \n",
      " 3   r0le          85579 non-null  object \n",
      " 4   TITLE         85578 non-null  object \n",
      " 5     Type        85579 non-null  object \n",
      " 6   release Year  85579 non-null  int64  \n",
      " 7   genres        85579 non-null  object \n",
      " 8   imdb sc0re    80970 non-null  float64\n",
      " 9   imdb v0tes    80853 non-null  float64\n",
      "dtypes: float64(2), int64(2), object(6)\n",
      "memory usage: 6.5+ MB\n"
     ]
    }
   ],
   "source": [
    "df.head()\n",
    "print(df.head())\n",
    "\n",
    "print()\n",
    "\n",
    "df.info()"
   ]
  },
  {
   "cell_type": "markdown",
   "id": "c505ac8a",
   "metadata": {},
   "source": [
    "<div style=\"background-color: #6B46C1; color: white; padding: 20px; border-radius: 10px; margin: 10px 0;\">\n",
    "\n",
    "## Task 1: Data Cleaning\n",
    "Let's clean the data to fix issues with the column names\n",
    "\n",
    "### Instructions:\n",
    "\n",
    "Rename the columns to correct any errors and make them consistent.\n",
    "Hints:\n",
    "\n",
    "Use the .rename() method to rename columns.\n",
    "Pass a dictionary to the columns parameter of .rename(), where the keys are the old column names and the values are the new names.\n",
    "Remove unnecessary whitespace from the column names.\n"
   ]
  },
  {
   "cell_type": "code",
   "execution_count": 21,
   "id": "3f6c5102",
   "metadata": {},
   "outputs": [
    {
     "name": "stdout",
     "output_type": "stream",
     "text": [
      "Index(['Unnamed: 0', '   name', 'Character', 'r0le', 'TITLE', '  Type',\n",
      "       'release Year', 'genres', 'imdb sc0re', 'imdb v0tes'],\n",
      "      dtype='object')\n"
     ]
    }
   ],
   "source": [
    "print(df.columns)\n"
   ]
  },
  {
   "cell_type": "code",
   "execution_count": 22,
   "id": "9d809a73",
   "metadata": {},
   "outputs": [
    {
     "name": "stdout",
     "output_type": "stream",
     "text": [
      "Index(['Unnamed: 0', 'name', 'character', 'role', 'title', 'type',\n",
      "       'release_year', 'genres', 'imdb_score', 'imdb_votes'],\n",
      "      dtype='object')\n"
     ]
    }
   ],
   "source": [
    "## Renaming the columns to fix issues\n",
    "\n",
    "df.rename(columns ={'   name':'name', \n",
    "                    '   year':'year', \n",
    "                    'Character': 'character',\n",
    "                    'r0le': 'role',\n",
    "                    'TITLE': 'title',\n",
    "                    '  Type': 'type',\n",
    "                     'release Year': 'release_year',\n",
    "                      'genres': 'genres',\n",
    "                      'imdb sc0re': 'imdb_score',\n",
    "                      'imdb v0tes': 'imdb_votes'},\n",
    "                    inplace=True)\n",
    "print(df.columns)"
   ]
  },
  {
   "cell_type": "code",
   "execution_count": null,
   "id": "17f328e2",
   "metadata": {},
   "outputs": [],
   "source": []
  },
  {
   "cell_type": "markdown",
   "id": "0304a043",
   "metadata": {},
   "source": [
    "<div style=\"background-color: #2563EB; color: white; padding: 20px; border-radius: 10px; margin: 10px 0;\">\n",
    "or we can use  the following code for modification of columns\n",
    "\n",
    "## 📝 Code Explanation: Column Cleaning Chain\n",
    "\n",
    "The following code demonstrates a powerful pandas method chaining approach for cleaning column names:\n",
    "\n",
    "```python\n",
    "df.columns = df.columns.str.strip().str.lower().str.replace(' ', '_').str.replace('0', 'o')\n",
    "```\n",
    "\n",
    "### Breaking Down Each Section:\n",
    "\n",
    "| **Method** | **Purpose** | **Example** |\n",
    "|------------|-------------|-------------|\n",
    "| `.str.strip()` | **Removes whitespace** from the beginning and end of column names | `\"   name\"` → `\"name\"` |\n",
    "| `.str.lower()` | **Converts to lowercase** for consistency | `\"TITLE\"` → `\"title\"` |\n",
    "| `.str.replace(' ', '_')` | **Replaces spaces with underscores** to make columns Python-friendly | `\"release Year\"` → `\"release_year\"` |\n",
    "| `.str.replace('0', 'o')` | **Fixes typos** where zeros were used instead of letter 'o' | `\"r0le\"` → `\"role\"`, `\"sc0re\"` → `\"score\"` |\n",
    "\n",
    "### Why This Approach is Useful:\n",
    "- ✅ **Method chaining**: Applies multiple transformations in one line\n",
    "- ✅ **Consistent naming**: All columns follow the same naming convention\n",
    "- ✅ **Python-friendly**: No spaces or special characters that could cause issues\n",
    "- ✅ **Readable code**: Easy to understand the sequence of operations\n",
    "\n",
    "</div>"
   ]
  },
  {
   "cell_type": "markdown",
   "id": "154a0fb0",
   "metadata": {},
   "source": [
    "## Task 2: Correcting a Misspelled Name in the Data\n",
    "\n",
    "While analyzing the dataset, you notice that some names are misspelled or contain special characters due to encoding issues. Accurate data is essential for reporting and recommendations, so let’s correct one of these entries.\n",
    "\n",
    "### Instructions\n",
    "\n",
    "1. **Locate the Row with the Incorrect Name**:\n",
    "   - Use `.loc[]` to retrieve the row where `name` is `\"In??s Prieto\"`.\n",
    "   - You can locate a row based on the index (85576) and column name called \"name\".\n",
    "   - Print the row to verify that you have the correct one.\n",
    "\n",
    "\n",
    "2. **Correct the Name**:\n",
    "   - Using `.loc[]`, update the `name` column for this row to \"Ines Prieto.\"\n",
    "   \n",
    "3. **Verify the Correction**:\n",
    "   - Print the row again to ensure that the name has been corrected."
   ]
  },
  {
   "cell_type": "markdown",
   "id": "ddad8734",
   "metadata": {},
   "source": [
    "<div style=\"background: linear-gradient(135deg, #1e40af 0%, #059669 100%); color: white; padding: 25px; border-radius: 15px; margin: 15px 0; box-shadow: 0 8px 32px rgba(0,0,0,0.3);\">\n",
    "\n",
    "## 📍 Understanding `.loc` - Label-Based Data Selection\n",
    "\n",
    "The `.loc` accessor is pandas' primary tool for **label-based indexing**. It allows you to select data using actual index labels and column names.\n",
    "\n",
    "### 🔧 Basic Syntax:\n",
    "<div style=\"background-color: #1f2937; padding: 15px; border-radius: 8px; border-left: 4px solid #fbbf24; margin: 10px 0; color: white;\">\n",
    "\n",
    "```python\n",
    "df.loc[row_indexer, column_indexer]\n",
    "```\n",
    "</div>\n",
    "\n",
    "### 📋 Common Applications:\n",
    "\n",
    "<div style=\"background-color: rgba(255,255,255,0.1); padding: 15px; border-radius: 10px; margin: 15px 0; color: white;\">\n",
    "\n",
    "| **Usage** | **Syntax** | **Description** |\n",
    "|-----------|------------|-----------------|\n",
    "| 🎯 **Single Value** | <code style=\"background: #dc2626; padding: 3px 6px; border-radius: 4px; color: white;\">df.loc[row, col]</code> | Get value at specific row/column |\n",
    "| 📄 **Single Row** | <code style=\"background: #7c3aed; padding: 3px 6px; border-radius: 4px; color: white;\">df.loc[row]</code> | Get entire row |\n",
    "| 📚 **Multiple Rows** | <code style=\"background: #059669; padding: 3px 6px; border-radius: 4px; color: white;\">df.loc[start:end]</code> | Get slice of rows |\n",
    "| 🎨 **Specific Columns** | <code style=\"background: #ea580c; padding: 3px 6px; border-radius: 4px; color: white;\">df.loc[:, ['col1', 'col2']]</code> | Get specific columns for all rows |\n",
    "| 🔍 **Conditional Selection** | <code style=\"background: #0891b2; padding: 3px 6px; border-radius: 4px; color: white;\">df.loc[df['col'] > 5]</code> | Filter rows based on condition |\n",
    "| ✏️ **Update Values** | <code style=\"background: #be123c; padding: 3px 6px; border-radius: 4px; color: white;\">df.loc[row, col] = new_value</code> | Modify specific cell |\n",
    "\n",
    "</div>\n",
    "\n",
    "### ⚡ Examples in Context:\n",
    "\n",
    "<div style=\"background-color: #0f172a; padding: 20px; border-radius: 10px; border: 2px solid #fbbf24; margin: 15px 0; color: white;\">\n",
    "\n",
    "**🔎 Get single value (what we're doing below):**\n",
    "<div style=\"background: linear-gradient(90deg, #7c3aed, #a855f7); padding: 8px; border-radius: 6px; margin: 8px 0; color: white;\">\n",
    "\n",
    "```python\n",
    "df.loc[85576, 'name']\n",
    "```\n",
    "</div>\n",
    "\n",
    "**📋 Get entire row:**\n",
    "<div style=\"background: linear-gradient(90deg, #7c3aed, #a855f7); padding: 8px; border-radius: 6px; margin: 8px 0; color: white;\">\n",
    "\n",
    "```python\n",
    "df.loc[85576]\n",
    "```\n",
    "</div>\n",
    "\n",
    "**✏️ Update a value:**\n",
    "<div style=\"background: linear-gradient(90deg, #be123c, #e11d48); padding: 8px; border-radius: 6px; margin: 8px 0; color: white;\">\n",
    "\n",
    "```python\n",
    "df.loc[85576, 'name'] = \"Ines Prieto\"\n",
    "```\n",
    "</div>\n",
    "\n",
    "**🔍 Filter and select columns:**\n",
    "<div style=\"background: linear-gradient(90deg, #7c3aed, #a855f7); padding: 8px; border-radius: 6px; margin: 8px 0; color: white;\">\n",
    "\n",
    "```python\n",
    "df.loc[df['imdb_score'] > 8.0, ['title', 'imdb_score']]\n",
    "```\n",
    "</div>\n",
    "\n",
    "</div>\n",
    "\n",
    "### ⚠️ Important Notes:\n",
    "<div style=\"background-color: rgba(239, 68, 68, 0.2); border: 2px solid #ef4444; padding: 15px; border-radius: 10px; margin: 10px 0; color: white;\">\n",
    "\n",
    "- 🏷️ Uses **index labels**, not positions\n",
    "- 📏 Includes both endpoints in slices  \n",
    "- 🛠️ Perfect for data cleaning and targeted updates\n",
    "\n",
    "</div>\n",
    "\n",
    "</div>"
   ]
  },
  {
   "cell_type": "code",
   "execution_count": 23,
   "id": "2e8f2710",
   "metadata": {},
   "outputs": [
    {
     "data": {
      "text/plain": [
       "'In??s Prieto'"
      ]
     },
     "execution_count": 23,
     "metadata": {},
     "output_type": "execute_result"
    }
   ],
   "source": [
    " # Locate the row with the incorrect name\n",
    "#find the location \n",
    "df.loc[85576,'name'] "
   ]
  },
  {
   "cell_type": "code",
   "execution_count": 24,
   "id": "6d6479ef",
   "metadata": {},
   "outputs": [
    {
     "name": "stdout",
     "output_type": "stream",
     "text": [
      "After correction:\n",
      "Ines Prieto\n"
     ]
    }
   ],
   "source": [
    "# Correct the misspelled name\n",
    "df.loc[85576, 'name'] = \"Ines Prieto\"\n",
    "\n",
    "# Verify the correction\n",
    "print(\"After correction:\")\n",
    "print(df.loc[85576, 'name'])"
   ]
  },
  {
   "cell_type": "markdown",
   "id": "de3df878",
   "metadata": {},
   "source": [
    "## Task 3: Finding All Movies and Shows Featuring Ines Prieto\n",
    "\n",
    "Now that we've corrected the spelling of \"Ines Prieto\" in the dataset, let's find all the TV shows and movies she has acted in. This type of filtering is helpful for generating actor-specific profiles or building a list of their works.\n",
    "\n",
    "### Instructions\n",
    "\n",
    "1. **Filter by Actor’s Name**:\n",
    "   - Use a filtering condition to select rows where the `name` column is equal to `\"Ines Prieto\"`.\n",
    "   \n",
    "2. **Display Relevant Columns**:\n",
    "   - From each matching row, retrieve only the `title`, `release_year`, `imdb_score`, and `genres` columns for a clear, concise output.\n",
    "\n",
    "**Hint:**\n",
    "\n",
    "To filter rows based on a specific value in a column, use a condition inside df[ ... ]. In this case, check if the name column equals \"Ines Prieto\". Then, select only the columns you need (like title, release_year, imdb_score, and genres) by specifying them in double brackets [ [ ... ] ]."
   ]
  },
  {
   "cell_type": "code",
   "execution_count": 25,
   "id": "d22828f8",
   "metadata": {},
   "outputs": [
    {
     "name": "stdout",
     "output_type": "stream",
     "text": [
      "         title  release_year  imdb_score      genres\n",
      "85576  Lokillo          2021         3.8  ['comedy']\n"
     ]
    }
   ],
   "source": [
    "filter_name= df[df['name']==\"Ines Prieto\"]\n",
    "print(filter_name[['title', 'release_year', 'imdb_score', 'genres']])"
   ]
  },
  {
   "cell_type": "code",
   "execution_count": 26,
   "id": "34aac4c6",
   "metadata": {},
   "outputs": [
    {
     "name": "stdout",
     "output_type": "stream",
     "text": [
      "         title  release_year  imdb_score      genres\n",
      "85576  Lokillo          2021         3.8  ['comedy']\n"
     ]
    }
   ],
   "source": [
    "filter_name= df[df['name']==\"Ines Prieto\"][['title', 'release_year', 'imdb_score', 'genres']]\n",
    "print(filter_name)"
   ]
  },
  {
   "cell_type": "code",
   "execution_count": 27,
   "id": "9b4d5dd2",
   "metadata": {},
   "outputs": [
    {
     "name": "stdout",
     "output_type": "stream",
     "text": [
      "       Unnamed: 0         name character   role    title       type  \\\n",
      "85576       85576  Ines Prieto     Fanny  ACTOR  Lokillo  the movie   \n",
      "\n",
      "       release_year      genres  imdb_score  imdb_votes  \n",
      "85576          2021  ['comedy']         3.8        68.0  \n"
     ]
    }
   ],
   "source": [
    "filter_name= df[df['name']==\"Ines Prieto\"][['title', 'release_year', 'imdb_score', 'genres']]\n",
    "print(df.loc[filter_name.index])\n"
   ]
  },
  {
   "cell_type": "markdown",
   "id": "1cd6b53b",
   "metadata": {},
   "source": [
    "<div style=\"background: linear-gradient(135deg, #dc2626 0%, #ea580c 100%); color: white; padding: 25px; border-radius: 15px; margin: 15px 0; box-shadow: 0 8px 32px rgba(0,0,0,0.3);\">\n",
    "\n",
    "## 🔍 Comparing the Three Filtering Approaches\n",
    "\n",
    "Analyzing the differences between the three code cells above (cells 15, 16, and 17):\n",
    "\n",
    "### 📊 **Method 1 - Two-Step Approach** (Cell 15):\n",
    "<div style=\"background-color: #1f2937; padding: 15px; border-radius: 8px; border-left: 4px solid #10b981; margin: 10px 0; color: white;\">\n",
    "\n",
    "```python\n",
    "filter_name = df[df['name']==\"Ines Prieto\"]\n",
    "print(filter_name[['title', 'release_year', 'imdb_score', 'genres']])\n",
    "```\n",
    "</div>\n",
    "\n",
    "**What it does:**\n",
    "- 🎯 **Step 1**: Creates `filter_name` containing ALL columns for Ines Prieto rows\n",
    "- 🎯 **Step 2**: Selects only specific columns for display\n",
    "- ✅ **Memory efficient**: Keeps original filtered data intact\n",
    "- ✅ **Flexible**: Can reuse `filter_name` for other operations\n",
    "\n",
    "### 📊 **Method 2 - One-Step Column Selection** (Cell 16):\n",
    "<div style=\"background-color: #1f2937; padding: 15px; border-radius: 8px; border-left: 4px solid #f59e0b; margin: 10px 0; color: white;\">\n",
    "\n",
    "```python\n",
    "filter_name = df[df['name']==\"Ines Prieto\"][['title', 'release_year', 'imdb_score', 'genres']]\n",
    "print(filter_name)\n",
    "```\n",
    "</div>\n",
    "\n",
    "**What it does:**\n",
    "- 🎯 **Single Step**: Filter rows AND select columns in one line\n",
    "- ✅ **Concise**: More compact code\n",
    "- ✅ **Direct**: `filter_name` only contains the 4 specified columns\n",
    "- ⚠️ **Limited**: Can't access other columns later without re-filtering\n",
    "\n",
    "### 📊 **Method 3 - Index-Based Retrieval** (Cell 17):\n",
    "<div style=\"background-color: #1f2937; padding: 15px; border-radius: 8px; border-left: 4px solid #ef4444; margin: 10px 0; color: white;\">\n",
    "\n",
    "```python\n",
    "filter_name = df[df['name']==\"Ines Prieto\"][['title', 'release_year', 'imdb_score', 'genres']]\n",
    "print(df.loc[filter_name.index])\n",
    "```\n",
    "</div>\n",
    "\n",
    "**What it does:**\n",
    "- 🎯 **Step 1**: Creates filtered DataFrame with 4 columns\n",
    "- 🎯 **Step 2**: Uses the INDEX from filtered data to get ALL columns from original DataFrame\n",
    "- ⚠️ **Circular**: Defeats the purpose of column selection\n",
    "- ❌ **Inefficient**: Extra work to get back to full row data\n",
    "\n",
    "### 🏆 **Recommendation:**\n",
    "\n",
    "<div style=\"background-color: rgba(16, 185, 129, 0.2); border: 2px solid #10b981; padding: 15px; border-radius: 10px; margin: 10px 0; color: white;\">\n",
    "\n",
    "**Use Method 2** for this task - it's the most direct and efficient approach:\n",
    "\n",
    "```python\n",
    "filtered_data = df[df['name']==\"Ines Prieto\"][['title', 'release_year', 'imdb_score', 'genres']]\n",
    "```\n",
    "\n",
    "</div>\n",
    "\n",
    "</div>"
   ]
  },
  {
   "cell_type": "markdown",
   "id": "2e1c204b",
   "metadata": {},
   "source": [
    "## Task 4: Finding Highly Rated Movies\n",
    "\n",
    "We want to identify movies with an IMDb rating of at least **9.0**. This list could be helpful for curating a \"Top Movies\" section based on high ratings.\n",
    "\n",
    "### Instructions\n",
    "\n",
    "1. **Filter for High IMDb Scores**:\n",
    "   - First, filter the DataFrame to include only rows where the `imdb_score` is greater than 9.0.\n",
    "\n",
    "2. **Extract the Titles**:\n",
    "   - From this filtered DataFrame, select only the `title` column, which contains the names of the movies.\n",
    "\n",
    "3. **Get Unique Titles**:\n",
    "   - Convert the resulting list of titles to a set to remove any duplicate titles. Using `set()` will keep only unique movie names.\n",
    "\n",
    "   - *Example*: `unique_titles = set(high_score_titles)`\n",
    "\n",
    "4. **Print the Unique Titles**:\n",
    "   - Display the final set of unique movie titles to see the list of top-rated movies."
   ]
  },
  {
   "cell_type": "code",
   "execution_count": 39,
   "id": "1514b420",
   "metadata": {},
   "outputs": [
    {
     "name": "stdout",
     "output_type": "stream",
     "text": [
      "['Breaking Bad' 'Avatar: The Last Airbender' 'Reply 1988' 'My Mister'\n",
      " 'The Last Dance' 'Our Planet' 'Kota Factory' 'Major']\n"
     ]
    }
   ],
   "source": [
    "# Filter for movies with an IMDb score above 9.0\n",
    "imdb_above_nine = df[df['imdb_score']>9.0]  # this is a new dataframe\n",
    "\n",
    "\n",
    "# Extract the 'title' column from the filtered DataFrame\n",
    "idmb_titles = imdb_above_nine['title']\n",
    "# print(idmb_titles)\n",
    "\n",
    "# Get a unique set of titles\n",
    "unique_idmb_titles = idmb_titles.unique()\n",
    "\n",
    "\n",
    "# Print the unique titles\n",
    "print(unique_idmb_titles)\n"
   ]
  },
  {
   "cell_type": "markdown",
   "id": "43bd747a",
   "metadata": {},
   "source": []
  }
 ],
 "metadata": {
  "kernelspec": {
   "display_name": "base",
   "language": "python",
   "name": "python3"
  },
  "language_info": {
   "codemirror_mode": {
    "name": "ipython",
    "version": 3
   },
   "file_extension": ".py",
   "mimetype": "text/x-python",
   "name": "python",
   "nbconvert_exporter": "python",
   "pygments_lexer": "ipython3",
   "version": "3.13.5"
  }
 },
 "nbformat": 4,
 "nbformat_minor": 5
}
